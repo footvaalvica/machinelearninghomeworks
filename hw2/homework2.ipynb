{
 "cells": [
  {
   "cell_type": "markdown",
   "metadata": {},
   "source": [
    "#### Pen and paper part!"
   ]
  },
  {
   "cell_type": "markdown",
   "metadata": {},
   "source": []
  },
  {
   "cell_type": "code",
   "execution_count": 10,
   "metadata": {},
   "outputs": [
    {
     "name": "stdout",
     "output_type": "stream",
     "text": [
      "2.12123\n",
      "1.54465\n",
      "0.60869\n",
      "0.28196\n"
     ]
    }
   ],
   "source": [
    "from statistics import mean, variance\n",
    "import numpy as np\n",
    "\n",
    "y3 = (1.2, 0.8, 0.5, 0.9, 0.8, 1, 0.9, 1.2, 0.8)\n",
    "y3_p = (1.2, 0.8, 0.5, 0.9, 0.8)\n",
    "y3_n = (1, 0.9, 1.2, 0.8)\n",
    "y3_mean = mean(y3)\n",
    "y3_var = variance(y3)\n",
    "y3_p_mean = mean(y3_p)\n",
    "y3_p_var = variance(y3_p)\n",
    "y3_n_mean = mean(y3_n)\n",
    "y3_n_var = variance(y3_n)\n",
    "\n",
    "y = 0.9\n",
    "gaussian = lambda x, mu, sigma: 1/(sigma*np.sqrt(2*np.pi))*np.exp(-0.5*((x-mu)/sigma)**2)\n",
    "y3_p = gaussian(y, y3_p_mean, np.sqrt(y3_p_var))\n",
    "y3 = gaussian(y, y3_mean, np.sqrt(y3_var))\n",
    "y3_n = gaussian(y, y3_n_mean, np.sqrt(y3_n_var))\n",
    "\n",
    "res = 2/4 * y3_n * 4/9 + 1/5 * y3_p * 4/9\n",
    "print(round(y3_n, 5))\n",
    "print(round(y3_p, 5))\n",
    "print(round(res, 5))\n",
    "\n",
    "res_2 = (1/5 * y3_p * 5/9) / res\n",
    "\n",
    "print(round(res_2, 5))"
   ]
  }
 ],
 "metadata": {
  "kernelspec": {
   "display_name": "Python 3.8.10 64-bit",
   "language": "python",
   "name": "python3"
  },
  "language_info": {
   "codemirror_mode": {
    "name": "ipython",
    "version": 3
   },
   "file_extension": ".py",
   "mimetype": "text/x-python",
   "name": "python",
   "nbconvert_exporter": "python",
   "pygments_lexer": "ipython3",
   "version": "3.8.10"
  },
  "orig_nbformat": 4,
  "vscode": {
   "interpreter": {
    "hash": "e7370f93d1d0cde622a1f8e1c04877d8463912d04d973331ad4851f04de6915a"
   }
  }
 },
 "nbformat": 4,
 "nbformat_minor": 2
}
