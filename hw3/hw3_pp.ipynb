{
  "cells": [
    {
      "cell_type": "markdown",
      "metadata": {
        "colab_type": "text",
        "id": "view-in-github"
      },
      "source": [
        "<a href=\"https://colab.research.google.com/github/footvaalvica/machinelearninghomeworks/blob/main/hw3/hw3.ipynb\" target=\"_parent\"><img src=\"https://colab.research.google.com/assets/colab-badge.svg\" alt=\"Open In Colab\"/></a>"
      ]
    },
    {
      "cell_type": "code",
      "execution_count": 39,
      "metadata": {},
      "outputs": [
        {
          "name": "stdout",
          "output_type": "stream",
          "text": [
            "x: \n",
            " [[1.    0.8   0.64  0.512]\n",
            " [1.    1.    1.    1.   ]\n",
            " [1.    1.2   1.44  1.728]\n",
            " [1.    1.4   1.96  2.744]\n",
            " [1.    1.6   2.56  4.096]]\n",
            "[ 7.045076  4.640928  1.96734  -1.300881]\n"
          ]
        }
      ],
      "source": [
        "import numpy as np\n",
        "\n",
        "observations = (0.8, 1, 1.2, 1.4, 1.6)\n",
        "targets = (24, 20, 10, 13, 12)\n",
        "\n",
        "# Learn the Ridge regression (𝑙2 regularization) on the transformed data space using the closed\n",
        "# form solution with 𝜆 = 2.\n",
        "def ridge_regression(x, y, l):\n",
        "    # Transform the data space\n",
        "    x = np.array([[1, x[i], x[i]**2, x[i]**3] for i in range(len(x))])\n",
        "    print(\"x: \\n\", x)\n",
        "    # print(x)\n",
        "    # Compute the closed form solution\n",
        "    w = np.linalg.inv(x.T @ x + l * np.identity(x.shape[1])) @ x.T @ y  \n",
        "    return w\n",
        "\n",
        "# find weights\n",
        "w = ridge_regression(observations, targets, 2)\n",
        "\n",
        "# round values in w\n",
        "w = np.round(w, 6)\n",
        "print(w)"
      ]
    },
    {
      "cell_type": "code",
      "execution_count": 40,
      "metadata": {},
      "outputs": [
        {
          "name": "stdout",
          "output_type": "stream",
          "text": [
            "6.843295\n"
          ]
        }
      ],
      "source": [
        "# Compute the training RMSE for the learnt regression model.\n",
        "def rmse(x, y, w):\n",
        "    # Transform the data space\n",
        "    x = np.array([[1, x[i], x[i]**2, x[i]**3] for i in range(len(x))])\n",
        "    # Compute RMSE\n",
        "    rmse = np.sqrt(np.sum((x @ w - y)**2) / len(x))\n",
        "    return rmse\n",
        "\n",
        "# Compute the training RMSE\n",
        "rmse = rmse(observations, targets, w)\n",
        "print(round(rmse, 6))"
      ]
    }
  ],
  "metadata": {
    "colab": {
      "authorship_tag": "ABX9TyP5YoTgtgV9MlGv+ym/VLzc",
      "include_colab_link": true,
      "provenance": []
    },
    "kernelspec": {
      "display_name": "Python 3.8.10 64-bit",
      "language": "python",
      "name": "python3"
    },
    "language_info": {
      "codemirror_mode": {
        "name": "ipython",
        "version": 3
      },
      "file_extension": ".py",
      "mimetype": "text/x-python",
      "name": "python",
      "nbconvert_exporter": "python",
      "pygments_lexer": "ipython3",
      "version": "3.8.10"
    },
    "vscode": {
      "interpreter": {
        "hash": "e7370f93d1d0cde622a1f8e1c04877d8463912d04d973331ad4851f04de6915a"
      }
    }
  },
  "nbformat": 4,
  "nbformat_minor": 0
}
