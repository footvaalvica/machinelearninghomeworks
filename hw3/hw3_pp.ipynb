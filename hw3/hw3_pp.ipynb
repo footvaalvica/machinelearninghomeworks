{
  "cells": [
    {
      "cell_type": "markdown",
      "metadata": {
        "colab_type": "text",
        "id": "view-in-github"
      },
      "source": [
        "<a href=\"https://colab.research.google.com/github/footvaalvica/machinelearninghomeworks/blob/main/hw3/hw3.ipynb\" target=\"_parent\"><img src=\"https://colab.research.google.com/assets/colab-badge.svg\" alt=\"Open In Colab\"/></a>"
      ]
    },
    {
      "cell_type": "code",
      "execution_count": 2,
      "metadata": {},
      "outputs": [],
      "source": [
        "import numpy as np"
      ]
    },
    {
      "cell_type": "code",
      "execution_count": 3,
      "metadata": {},
      "outputs": [
        {
          "name": "stdout",
          "output_type": "stream",
          "text": [
            "[[ 0.3417 -0.1214 -0.0749 -0.0093]\n",
            " [-0.1214  0.3892 -0.0967 -0.0745]\n",
            " [-0.0749 -0.0967  0.3726 -0.1714]\n",
            " [-0.0093 -0.0745 -0.1714  0.18  ]]\n",
            "[11.35086463 12.35246259 13.19923625 13.8287433  14.17854143]\n",
            "[ 7.0451  4.6409  1.9673 -1.3009]\n"
          ]
        }
      ],
      "source": [
        "observations = (0.8, 1, 1.2, 1.4, 1.6)\n",
        "targets = (24, 20, 10, 13, 12)\n",
        "\n",
        "# Learn the Ridge regression (𝑙2 regularization) on the transformed data space using the closed\n",
        "# form solution with 𝜆 = 2.\n",
        "def ridge_regression(x, y, l):\n",
        "    # Transform the data space\n",
        "    x = np.array([[1, x[i], x[i]**2, x[i]**3] for i in range(len(x))])\n",
        "    array = np.linalg.inv(x.T @ x + l * np.identity(x.shape[1]))\n",
        "    # round the result to 3 decimal places and print it\n",
        "    print(np.round(array, 4))\n",
        "\n",
        "\n",
        "    w = np.linalg.inv(x.T @ x + l * np.identity(x.shape[1])) @ x.T @ y  \n",
        "    print(x @ w)\n",
        "\n",
        "    return np.round(w, 4)\n",
        "\n",
        "# find weights\n",
        "w = ridge_regression(observations, targets, 2)\n",
        "\n",
        "# round values in w\n",
        "w = np.round(w, 6)\n",
        "print(w)"
      ]
    },
    {
      "cell_type": "code",
      "execution_count": 15,
      "metadata": {},
      "outputs": [
        {
          "name": "stdout",
          "output_type": "stream",
          "text": [
            "[11.3508312 12.3524    13.1991368 13.8285984 14.1783416]\n",
            "[ 7.0451  4.6409  1.9673 -1.3009]\n",
            "[11.3508312 12.3524    13.1991368 13.8285984 14.1783416]\n",
            "Final Result:  6.843296\n"
          ]
        }
      ],
      "source": [
        "# Compute the training RMSE for the learnt regression model.\n",
        "x = np.array([[1, observations[i], observations[i]**2, observations[i]**3] for i in range(len(observations))])\n",
        "z = targets\n",
        "z_hat = x @ w\n",
        "\n",
        "print(z_hat)\n",
        "\n",
        "print(w)\n",
        "sum = w[0]*np.array([1,1,1,1,1]) + w[1]*np.array([0.8,1,1.2,1.4,1.6]) + w[2]*np.array([0.8**2,1**2,1.2**2,1.4**2,1.6**2]) + w[3]*np.array([0.8**3,1**3,1.2**3,1.4**3,1.6**3])\n",
        "print(sum)\n",
        "def rmse(z, z_hat):\n",
        "    # Compute the RMSE\n",
        "    rmse = np.sqrt(1/len(z) * np.sum((z - z_hat)**2))\n",
        "    \n",
        "    # round the result to 3 decimal places and print it\n",
        "    return rmse\n",
        "\n",
        "# Compute the training RMSE\n",
        "rmse = rmse(z, z_hat)\n",
        "print(\"Final Result: \", round(rmse, 6))"
      ]
    }
  ],
  "metadata": {
    "colab": {
      "authorship_tag": "ABX9TyP5YoTgtgV9MlGv+ym/VLzc",
      "include_colab_link": true,
      "provenance": []
    },
    "kernelspec": {
      "display_name": "Python 3.8.10 64-bit",
      "language": "python",
      "name": "python3"
    },
    "language_info": {
      "codemirror_mode": {
        "name": "ipython",
        "version": 3
      },
      "file_extension": ".py",
      "mimetype": "text/x-python",
      "name": "python",
      "nbconvert_exporter": "python",
      "pygments_lexer": "ipython3",
      "version": "3.8.10"
    },
    "vscode": {
      "interpreter": {
        "hash": "e7370f93d1d0cde622a1f8e1c04877d8463912d04d973331ad4851f04de6915a"
      }
    }
  },
  "nbformat": 4,
  "nbformat_minor": 0
}
